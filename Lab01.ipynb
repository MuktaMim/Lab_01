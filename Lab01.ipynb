{
 "cells": [
  {
   "cell_type": "code",
   "execution_count": 8,
   "id": "2cb9a561",
   "metadata": {},
   "outputs": [
    {
     "name": "stdout",
     "output_type": "stream",
     "text": [
      "50 20\n",
      "1000\n"
     ]
    }
   ],
   "source": [
    "num1, num2=input().split()\n",
    "num1=int(num1)\n",
    "num2=int(num2)\n",
    "p=num1*num2\n",
    "if p>1000:\n",
    "    print(num1+num2)\n",
    "else:\n",
    "    print(p)"
   ]
  },
  {
   "cell_type": "code",
   "execution_count": 11,
   "id": "e1d2223d",
   "metadata": {},
   "outputs": [
    {
     "name": "stdout",
     "output_type": "stream",
     "text": [
      "20\n",
      "Area is 1256.64\n",
      "Perimeter is 125.664\n"
     ]
    }
   ],
   "source": [
    "r=int(input())\n",
    "pi=3.1416\n",
    "A=pi*r*r\n",
    "C=2*pi*r\n",
    "print(\"Area is {}\". format (A))\n",
    "print(\"Perimeter is {}\".format(C))\n"
   ]
  },
  {
   "cell_type": "code",
   "execution_count": 19,
   "id": "c22d358d",
   "metadata": {},
   "outputs": [
    {
     "name": "stdout",
     "output_type": "stream",
     "text": [
      "10 5 3\n",
      "11.576250000000002\n"
     ]
    }
   ],
   "source": [
    "def compound_interest_2018_3_60_099(p,r,t):\n",
    "    tmp = (1+(r/100.0))**t\n",
    "    return p*tmp\n",
    "p, r, t = input().split()\n",
    "p = float(p)\n",
    "r = float(r)\n",
    "t = int(t)\n",
    "7\n",
    "print(compound_interest_2018_3_60_009(p,r,t))"
   ]
  },
  {
   "cell_type": "code",
   "execution_count": 20,
   "id": "33290ffd",
   "metadata": {},
   "outputs": [
    {
     "name": "stdout",
     "output_type": "stream",
     "text": [
      "50\n",
      "42925\n"
     ]
    }
   ],
   "source": [
    "n = int(input())\n",
    "sum = 0\n",
    "for i in range(1,n+1):\n",
    "    sum += (i**2)\n",
    "print(sum)"
   ]
  },
  {
   "cell_type": "code",
   "execution_count": 21,
   "id": "4ac68564",
   "metadata": {},
   "outputs": [
    {
     "name": "stdout",
     "output_type": "stream",
     "text": [
      "50\n",
      "Not prime!\n"
     ]
    }
   ],
   "source": [
    "import math \n",
    "\n",
    "def prime_find_2018_3_60_099(n):\n",
    "    if n<=1:\n",
    "        return 0\n",
    "    \n",
    "    limit = int(math.sqrt(n))\n",
    "    for i in range(2,limit+1):\n",
    "        if n%i == 0:\n",
    "            return 0\n",
    "    \n",
    "    return 1\n",
    "\n",
    "n = int(input())\n",
    "if prime_find_2018_3_60_099(n):\n",
    "    print(\"Prime!\")\n",
    "else:\n",
    "    print(\"Not prime!\")"
   ]
  },
  {
   "cell_type": "code",
   "execution_count": 22,
   "id": "b0e1c69e",
   "metadata": {},
   "outputs": [
    {
     "name": "stdout",
     "output_type": "stream",
     "text": [
      "7\n",
      "8\n"
     ]
    }
   ],
   "source": [
    "dp = [-1 for i in range(1005)]\n",
    "\n",
    "def fib(n):\n",
    "    if n==0:\n",
    "        return 0\n",
    "    if n==1:\n",
    "        return 1\n",
    "    \n",
    "    if dp[n] != -1:\n",
    "        return dp[n]\n",
    "    \n",
    "    dp[n] = fib(n-1) + fib(n-2)\n",
    "    \n",
    "    return dp[n]\n",
    "\n",
    "n = int(input())\n",
    "\n",
    "print(fib(n-1))\n",
    "\n",
    "# for i in range(10):\n",
    "#  print(dp[i])"
   ]
  },
  {
   "cell_type": "code",
   "execution_count": 23,
   "id": "cd5bdf8f",
   "metadata": {},
   "outputs": [
    {
     "name": "stdout",
     "output_type": "stream",
     "text": [
      "210\n"
     ]
    }
   ],
   "source": [
    "list = [1,2,3,4,5,6,7,8,9,10,11,12,13,14,15,16,17,18,19,20]\n",
    "sum = 0\n",
    "for i in list:\n",
    "    sum += i\n",
    "\n",
    "print(sum)"
   ]
  },
  {
   "cell_type": "code",
   "execution_count": 24,
   "id": "c53b6427",
   "metadata": {},
   "outputs": [
    {
     "name": "stdout",
     "output_type": "stream",
     "text": [
      "100\n"
     ]
    }
   ],
   "source": [
    "list = [1,2,3,4,5,6,7,8,9,10,11,12,13,14,15,16,17,18,19,20]\n",
    "sum = 0\n",
    "for i in range(0,len(list),2):\n",
    "    sum += list[i]\n",
    "\n",
    "print(sum)"
   ]
  },
  {
   "cell_type": "code",
   "execution_count": 25,
   "id": "fc296f17",
   "metadata": {},
   "outputs": [
    {
     "name": "stdout",
     "output_type": "stream",
     "text": [
      "The largest number is 20\n",
      "The smallest number is 1\n"
     ]
    }
   ],
   "source": [
    "list = [11,12,13,14,15,16,17,18,19,20,1,2,3,4,5,6,7,8,9,10]\n",
    "\n",
    "def largest_number_2018_3_60_099(list):\n",
    "    mx = float('-inf')\n",
    "    for i in list:\n",
    "        if i > mx:\n",
    "            mx = i\n",
    "    return mx\n",
    "\n",
    "def smallest_number_2018_3_60_099(list):\n",
    "    mn = float('inf')\n",
    "    for i in list:\n",
    "        if i < mn:\n",
    "            mn = i\n",
    "    return mn\n",
    "\n",
    "print(f'The largest number is {largest_number_2018_3_60_099(list)}')\n",
    "print(f'The smallest number is {smallest_number_2018_3_60_099(list)}')"
   ]
  },
  {
   "cell_type": "code",
   "execution_count": 1,
   "id": "960920a5",
   "metadata": {},
   "outputs": [
    {
     "name": "stdout",
     "output_type": "stream",
     "text": [
      "19\n"
     ]
    }
   ],
   "source": [
    "list = [11,12,13,14,15,16,17,18,19,20,1,2,3,4,5,6,7,8,9,10]\n",
    "n = len(list)\n",
    "list.sort()\n",
    "print(list[n-2])"
   ]
  },
  {
   "cell_type": "code",
   "execution_count": 1,
   "id": "a6185068",
   "metadata": {},
   "outputs": [
    {
     "name": "stdout",
     "output_type": "stream",
     "text": [
      "60\n",
      "6\n"
     ]
    }
   ],
   "source": [
    "str = input()\n",
    "for i in range(0, len(str), 2):\n",
    "    print(str[i])"
   ]
  },
  {
   "cell_type": "code",
   "execution_count": 4,
   "id": "20ffa229",
   "metadata": {},
   "outputs": [
    {
     "name": "stdout",
     "output_type": "stream",
     "text": [
      "meowmeow\n",
      "5\n",
      "eow\n"
     ]
    }
   ],
   "source": [
    "str = input()\n",
    "n = int(input())\n",
    "str2 = \"\"\n",
    "\n",
    "for i in range(n,len(str)):\n",
    "    str2 += str[i]\n",
    "    #print(str[i])\n",
    "\n",
    "print(str2)"
   ]
  },
  {
   "cell_type": "code",
   "execution_count": 5,
   "id": "31dfa86a",
   "metadata": {},
   "outputs": [
    {
     "name": "stdout",
     "output_type": "stream",
     "text": [
      "meowmeow\n",
      "0\n"
     ]
    }
   ],
   "source": [
    "str1 = input()\n",
    "str2=\"CSE303\"\n",
    "cnt=0\n",
    "\n",
    "for i in range(len(str1)):\n",
    "    cnt2=0\n",
    "    if len(str1)-i >= len(str2):\n",
    "        for j in range(len(str2)):\n",
    "            if str1[i] == str2[j]:\n",
    "                cnt2 += 1\n",
    "                i += 1\n",
    "            else:\n",
    "                break\n",
    "    \n",
    "    if cnt2 == len(str2):\n",
    "        cnt += 1\n",
    "\n",
    "print(cnt)"
   ]
  },
  {
   "cell_type": "code",
   "execution_count": 6,
   "id": "72ab44de",
   "metadata": {},
   "outputs": [
    {
     "name": "stdout",
     "output_type": "stream",
     "text": [
      "madam\n",
      "Palindrome!\n"
     ]
    }
   ],
   "source": [
    "def palindrome_checker_2018_3_60_099(str):\n",
    "    return str == str[::-1]\n",
    "\n",
    "str=input()\n",
    "\n",
    "if palindrome_checker_2018_3_60_099(str):\n",
    "    print(\"Palindrome!\")\n",
    "else:\n",
    "    print(\"Not palindrome!\")"
   ]
  },
  {
   "cell_type": "code",
   "execution_count": 7,
   "id": "2e6de3ea",
   "metadata": {},
   "outputs": [
    {
     "name": "stdout",
     "output_type": "stream",
     "text": [
      "[1, 3, 5, 7, 9, 12, 14, 16, 18, 20]\n"
     ]
    }
   ],
   "source": [
    "list1 = [1,2,3,4,5,6,7,8,9,10]\n",
    "list2 = [11,12,13,14,15,16,17,18,19,20]\n",
    "\n",
    "ans = []\n",
    "\n",
    "for i in list1:\n",
    "    if(i&1):\n",
    "        ans.append(i)\n",
    "    # pass\n",
    "        \n",
    "for i in list2:\n",
    "    if i%2==0:\n",
    "       ans.append(i)\n",
    "\n",
    "print(ans)\n"
   ]
  },
  {
   "cell_type": "code",
   "execution_count": null,
   "id": "2ab541db",
   "metadata": {},
   "outputs": [],
   "source": []
  }
 ],
 "metadata": {
  "kernelspec": {
   "display_name": "Python 3",
   "language": "python",
   "name": "python3"
  },
  "language_info": {
   "codemirror_mode": {
    "name": "ipython",
    "version": 3
   },
   "file_extension": ".py",
   "mimetype": "text/x-python",
   "name": "python",
   "nbconvert_exporter": "python",
   "pygments_lexer": "ipython3",
   "version": "3.8.8"
  }
 },
 "nbformat": 4,
 "nbformat_minor": 5
}
